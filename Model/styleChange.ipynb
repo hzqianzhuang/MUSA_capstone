{
 "cells": [
  {
   "cell_type": "code",
   "execution_count": 1,
   "metadata": {},
   "outputs": [
    {
     "name": "stderr",
     "output_type": "stream",
     "text": [
      "Using TensorFlow backend.\n"
     ]
    }
   ],
   "source": [
    "import pandas as pd # data processing, CSV file I/O (e.g. pd.read_csv)\n",
    "import numpy as np\n",
    "import os\n",
    "from keras import backend as K\n",
    "from keras.preprocessing.image import load_img, save_img, img_to_array\n",
    "import matplotlib.pyplot as plt\n",
    "from keras.applications import vgg19\n",
    "from keras.models import Model\n",
    "#from keras import optimizers\n",
    "from scipy.optimize import fmin_l_bfgs_b\n",
    "import os\n",
    "import pandas as pd\n",
    "import numpy as np\n",
    "import imageio\n",
    "from skimage.color import rgb2gray\n",
    "import matplotlib.pyplot as plt \n",
    "from sklearn.model_selection import train_test_split\n",
    "from PIL import Image, ImageFile\n",
    "import urllib.request\n",
    "import requests\n",
    "from io import BytesIO\n",
    "from random import choices"
   ]
  },
  {
   "cell_type": "code",
   "execution_count": 2,
   "metadata": {},
   "outputs": [],
   "source": [
    "import keras\n",
    "from keras.models import Sequential\n",
    "from keras.layers import Dense, Dropout\n",
    "from keras.optimizers import RMSprop\n",
    "from keras.layers.convolutional import Conv2D, MaxPooling2D\n",
    "from keras.layers import Dense, Flatten, Activation\n",
    "from keras.optimizers import SGD\n",
    "\n",
    "import tensorflow as tf\n",
    "from tensorflow.keras import Model, layers\n",
    "from sklearn.model_selection import StratifiedKFold\n",
    "from keras.layers import Dense, Dropout, Flatten, Conv2D, MaxPool2D\n"
   ]
  },
  {
   "cell_type": "code",
   "execution_count": 52,
   "metadata": {},
   "outputs": [],
   "source": [
    "path = \"/Users/qianzhuang/Academic/Upenn/Capstone/model/image-classification/images/images/\"\n",
    "files = []"
   ]
  },
  {
   "cell_type": "code",
   "execution_count": 53,
   "metadata": {},
   "outputs": [],
   "source": [
    "for r, d, f in os.walk(path):\n",
    "    for file in f:\n",
    "        if '.jpg' in file:\n",
    "            files.append(os.path.join(r, file))"
   ]
  },
  {
   "cell_type": "code",
   "execution_count": 55,
   "metadata": {},
   "outputs": [],
   "source": [
    "df = pd.DataFrame(files)\n",
    "df = df.rename({0:\"path\"},axis = 1)"
   ]
  },
  {
   "cell_type": "code",
   "execution_count": 59,
   "metadata": {},
   "outputs": [],
   "source": [
    "def getLabel(string):\n",
    "    return string.split('/')[-2]"
   ]
  },
  {
   "cell_type": "code",
   "execution_count": 57,
   "metadata": {},
   "outputs": [],
   "source": [
    "df['labels'] = df.path.apply(getLabel)"
   ]
  },
  {
   "cell_type": "code",
   "execution_count": 58,
   "metadata": {},
   "outputs": [
    {
     "data": {
      "text/html": [
       "<div>\n",
       "<style scoped>\n",
       "    .dataframe tbody tr th:only-of-type {\n",
       "        vertical-align: middle;\n",
       "    }\n",
       "\n",
       "    .dataframe tbody tr th {\n",
       "        vertical-align: top;\n",
       "    }\n",
       "\n",
       "    .dataframe thead th {\n",
       "        text-align: right;\n",
       "    }\n",
       "</style>\n",
       "<table border=\"1\" class=\"dataframe\">\n",
       "  <thead>\n",
       "    <tr style=\"text-align: right;\">\n",
       "      <th></th>\n",
       "      <th>path</th>\n",
       "      <th>labels</th>\n",
       "    </tr>\n",
       "  </thead>\n",
       "  <tbody>\n",
       "    <tr>\n",
       "      <th>0</th>\n",
       "      <td>/Users/qianzhuang/Academic/Upenn/Capstone/mode...</td>\n",
       "      <td>architecure</td>\n",
       "    </tr>\n",
       "    <tr>\n",
       "      <th>1</th>\n",
       "      <td>/Users/qianzhuang/Academic/Upenn/Capstone/mode...</td>\n",
       "      <td>architecure</td>\n",
       "    </tr>\n",
       "    <tr>\n",
       "      <th>2</th>\n",
       "      <td>/Users/qianzhuang/Academic/Upenn/Capstone/mode...</td>\n",
       "      <td>architecure</td>\n",
       "    </tr>\n",
       "    <tr>\n",
       "      <th>3</th>\n",
       "      <td>/Users/qianzhuang/Academic/Upenn/Capstone/mode...</td>\n",
       "      <td>architecure</td>\n",
       "    </tr>\n",
       "    <tr>\n",
       "      <th>4</th>\n",
       "      <td>/Users/qianzhuang/Academic/Upenn/Capstone/mode...</td>\n",
       "      <td>architecure</td>\n",
       "    </tr>\n",
       "  </tbody>\n",
       "</table>\n",
       "</div>"
      ],
      "text/plain": [
       "                                                path       labels\n",
       "0  /Users/qianzhuang/Academic/Upenn/Capstone/mode...  architecure\n",
       "1  /Users/qianzhuang/Academic/Upenn/Capstone/mode...  architecure\n",
       "2  /Users/qianzhuang/Academic/Upenn/Capstone/mode...  architecure\n",
       "3  /Users/qianzhuang/Academic/Upenn/Capstone/mode...  architecure\n",
       "4  /Users/qianzhuang/Academic/Upenn/Capstone/mode...  architecure"
      ]
     },
     "execution_count": 58,
     "metadata": {},
     "output_type": "execute_result"
    }
   ],
   "source": [
    "df.head()"
   ]
  },
  {
   "cell_type": "code",
   "execution_count": 99,
   "metadata": {},
   "outputs": [
    {
     "data": {
      "text/plain": [
       "'/Users/qianzhuang/Academic/Upenn/Capstone/model/224/architecure/63.jpg'"
      ]
     },
     "execution_count": 99,
     "metadata": {},
     "output_type": "execute_result"
    }
   ],
   "source": [
    "df.path[0]"
   ]
  },
  {
   "cell_type": "code",
   "execution_count": 46,
   "metadata": {},
   "outputs": [],
   "source": [
    "# create a function to create a RGB pic\n",
    "def creatRGB(array):\n",
    "    array = imageio.imread(array)\n",
    "    pixels = np.asarray(array)\n",
    "    imge = pixels.astype('uint8')\n",
    "    return imge"
   ]
  },
  {
   "cell_type": "code",
   "execution_count": null,
   "metadata": {},
   "outputs": [],
   "source": [
    "df.head()"
   ]
  },
  {
   "cell_type": "code",
   "execution_count": 19,
   "metadata": {},
   "outputs": [],
   "source": [
    "test_arr = df.RGB[0]"
   ]
  },
  {
   "cell_type": "code",
   "execution_count": 37,
   "metadata": {},
   "outputs": [],
   "source": [
    "label_list = df.labels.unique()"
   ]
  },
  {
   "cell_type": "code",
   "execution_count": 61,
   "metadata": {},
   "outputs": [],
   "source": [
    "from PIL import Image\n",
    "import os\n",
    "\n",
    "img_path = '/Users/qianzhuang/Academic/Upenn/Capstone/model/image-classification/images/images'\n",
    "resize_path_head = '/Users/qianzhuang/Academic/Upenn/Capstone/model/64/'\n"
   ]
  },
  {
   "cell_type": "code",
   "execution_count": 62,
   "metadata": {
    "scrolled": true
   },
   "outputs": [
    {
     "name": "stderr",
     "output_type": "stream",
     "text": [
      "/Users/qianzhuang/anaconda/lib/python3.6/site-packages/PIL/TiffImagePlugin.py:804: UserWarning: Corrupt EXIF data.  Expecting to read 4 bytes but only got 0. \n",
      "  warnings.warn(str(msg))\n"
     ]
    }
   ],
   "source": [
    "for i in range(0,len(df)):\n",
    "    im = Image.open(os.path.join(df.path[i]))\n",
    "    out = im.resize((64, 64))\n",
    "    resize_path = resize_path_head+df.labels[i]\n",
    "    if not os.path.exists(resize_path):\n",
    "        os.makedirs(resize_path)\n",
    "    try:\n",
    "        out.save(resize_path+\"/\"+str(i)+\".jpg\")\n",
    "    except:\n",
    "        os.remove(resize_path+\"/\"+str(i)+\".jpg\")"
   ]
  },
  {
   "cell_type": "code",
   "execution_count": 81,
   "metadata": {},
   "outputs": [
    {
     "data": {
      "text/plain": [
       "9935"
      ]
     },
     "execution_count": 81,
     "metadata": {},
     "output_type": "execute_result"
    }
   ],
   "source": [
    "i"
   ]
  },
  {
   "cell_type": "code",
   "execution_count": 56,
   "metadata": {},
   "outputs": [
    {
     "data": {
      "text/plain": [
       "'/Users/qianzhuang/Academic/Upenn/Capstone/model/image-classification/images/images/art and culture/637 (2).jpg'"
      ]
     },
     "execution_count": 56,
     "metadata": {},
     "output_type": "execute_result"
    }
   ],
   "source": [
    "df.path[i]"
   ]
  },
  {
   "cell_type": "code",
   "execution_count": 60,
   "metadata": {},
   "outputs": [
    {
     "data": {
      "text/html": [
       "<div>\n",
       "<style scoped>\n",
       "    .dataframe tbody tr th:only-of-type {\n",
       "        vertical-align: middle;\n",
       "    }\n",
       "\n",
       "    .dataframe tbody tr th {\n",
       "        vertical-align: top;\n",
       "    }\n",
       "\n",
       "    .dataframe thead th {\n",
       "        text-align: right;\n",
       "    }\n",
       "</style>\n",
       "<table border=\"1\" class=\"dataframe\">\n",
       "  <thead>\n",
       "    <tr style=\"text-align: right;\">\n",
       "      <th></th>\n",
       "      <th>path</th>\n",
       "      <th>labels</th>\n",
       "    </tr>\n",
       "  </thead>\n",
       "  <tbody>\n",
       "    <tr>\n",
       "      <th>0</th>\n",
       "      <td>/Users/qianzhuang/Academic/Upenn/Capstone/mode...</td>\n",
       "      <td>architecure</td>\n",
       "    </tr>\n",
       "    <tr>\n",
       "      <th>1</th>\n",
       "      <td>/Users/qianzhuang/Academic/Upenn/Capstone/mode...</td>\n",
       "      <td>architecure</td>\n",
       "    </tr>\n",
       "    <tr>\n",
       "      <th>2</th>\n",
       "      <td>/Users/qianzhuang/Academic/Upenn/Capstone/mode...</td>\n",
       "      <td>architecure</td>\n",
       "    </tr>\n",
       "    <tr>\n",
       "      <th>3</th>\n",
       "      <td>/Users/qianzhuang/Academic/Upenn/Capstone/mode...</td>\n",
       "      <td>architecure</td>\n",
       "    </tr>\n",
       "    <tr>\n",
       "      <th>4</th>\n",
       "      <td>/Users/qianzhuang/Academic/Upenn/Capstone/mode...</td>\n",
       "      <td>architecure</td>\n",
       "    </tr>\n",
       "  </tbody>\n",
       "</table>\n",
       "</div>"
      ],
      "text/plain": [
       "                                                path       labels\n",
       "0  /Users/qianzhuang/Academic/Upenn/Capstone/mode...  architecure\n",
       "1  /Users/qianzhuang/Academic/Upenn/Capstone/mode...  architecure\n",
       "2  /Users/qianzhuang/Academic/Upenn/Capstone/mode...  architecure\n",
       "3  /Users/qianzhuang/Academic/Upenn/Capstone/mode...  architecure\n",
       "4  /Users/qianzhuang/Academic/Upenn/Capstone/mode...  architecure"
      ]
     },
     "execution_count": 60,
     "metadata": {},
     "output_type": "execute_result"
    }
   ],
   "source": [
    "path = \"/Users/qianzhuang/Academic/Upenn/Capstone/model/64/\"\n",
    "files_2 = []\n",
    "\n",
    "for r, d, f in os.walk(path):\n",
    "    for file in f:\n",
    "        if '.jpg' in file:\n",
    "            files_2.append(os.path.join(r, file))\n",
    "\n",
    "df = pd.DataFrame(files_2)\n",
    "df = df.rename({0:\"path\"},axis = 1)\n",
    "df['labels'] = df.path.apply(getLabel)\n",
    "df.head()"
   ]
  },
  {
   "cell_type": "code",
   "execution_count": 61,
   "metadata": {},
   "outputs": [],
   "source": [
    "df['RGB'] = df.path.apply(creatRGB)"
   ]
  },
  {
   "cell_type": "code",
   "execution_count": 62,
   "metadata": {},
   "outputs": [
    {
     "data": {
      "text/html": [
       "<div>\n",
       "<style scoped>\n",
       "    .dataframe tbody tr th:only-of-type {\n",
       "        vertical-align: middle;\n",
       "    }\n",
       "\n",
       "    .dataframe tbody tr th {\n",
       "        vertical-align: top;\n",
       "    }\n",
       "\n",
       "    .dataframe thead th {\n",
       "        text-align: right;\n",
       "    }\n",
       "</style>\n",
       "<table border=\"1\" class=\"dataframe\">\n",
       "  <thead>\n",
       "    <tr style=\"text-align: right;\">\n",
       "      <th></th>\n",
       "      <th>path</th>\n",
       "      <th>labels</th>\n",
       "      <th>RGB</th>\n",
       "    </tr>\n",
       "  </thead>\n",
       "  <tbody>\n",
       "    <tr>\n",
       "      <th>0</th>\n",
       "      <td>/Users/qianzhuang/Academic/Upenn/Capstone/mode...</td>\n",
       "      <td>architecure</td>\n",
       "      <td>[[[59, 124, 180], [59, 124, 180], [59, 123, 18...</td>\n",
       "    </tr>\n",
       "    <tr>\n",
       "      <th>1</th>\n",
       "      <td>/Users/qianzhuang/Academic/Upenn/Capstone/mode...</td>\n",
       "      <td>architecure</td>\n",
       "      <td>[[[6, 3, 0], [8, 5, 0], [10, 7, 2], [9, 8, 3],...</td>\n",
       "    </tr>\n",
       "    <tr>\n",
       "      <th>2</th>\n",
       "      <td>/Users/qianzhuang/Academic/Upenn/Capstone/mode...</td>\n",
       "      <td>architecure</td>\n",
       "      <td>[[[0, 0, 0], [0, 0, 0], [0, 0, 0], [0, 0, 0], ...</td>\n",
       "    </tr>\n",
       "    <tr>\n",
       "      <th>3</th>\n",
       "      <td>/Users/qianzhuang/Academic/Upenn/Capstone/mode...</td>\n",
       "      <td>architecure</td>\n",
       "      <td>[[[173, 144, 100], [117, 88, 48], [75, 45, 9],...</td>\n",
       "    </tr>\n",
       "    <tr>\n",
       "      <th>4</th>\n",
       "      <td>/Users/qianzhuang/Academic/Upenn/Capstone/mode...</td>\n",
       "      <td>architecure</td>\n",
       "      <td>[[[65, 72, 78], [61, 68, 76], [60, 67, 75], [6...</td>\n",
       "    </tr>\n",
       "  </tbody>\n",
       "</table>\n",
       "</div>"
      ],
      "text/plain": [
       "                                                path       labels  \\\n",
       "0  /Users/qianzhuang/Academic/Upenn/Capstone/mode...  architecure   \n",
       "1  /Users/qianzhuang/Academic/Upenn/Capstone/mode...  architecure   \n",
       "2  /Users/qianzhuang/Academic/Upenn/Capstone/mode...  architecure   \n",
       "3  /Users/qianzhuang/Academic/Upenn/Capstone/mode...  architecure   \n",
       "4  /Users/qianzhuang/Academic/Upenn/Capstone/mode...  architecure   \n",
       "\n",
       "                                                 RGB  \n",
       "0  [[[59, 124, 180], [59, 124, 180], [59, 123, 18...  \n",
       "1  [[[6, 3, 0], [8, 5, 0], [10, 7, 2], [9, 8, 3],...  \n",
       "2  [[[0, 0, 0], [0, 0, 0], [0, 0, 0], [0, 0, 0], ...  \n",
       "3  [[[173, 144, 100], [117, 88, 48], [75, 45, 9],...  \n",
       "4  [[[65, 72, 78], [61, 68, 76], [60, 67, 75], [6...  "
      ]
     },
     "execution_count": 62,
     "metadata": {},
     "output_type": "execute_result"
    }
   ],
   "source": [
    "df.head()"
   ]
  },
  {
   "cell_type": "code",
   "execution_count": 63,
   "metadata": {},
   "outputs": [],
   "source": [
    "list_label = df.labels.unique()\n",
    "list_label = list(list_label)"
   ]
  },
  {
   "cell_type": "code",
   "execution_count": 64,
   "metadata": {},
   "outputs": [
    {
     "data": {
      "text/plain": [
       "(64, 64, 3)"
      ]
     },
     "execution_count": 64,
     "metadata": {},
     "output_type": "execute_result"
    }
   ],
   "source": [
    "df.RGB[0].shape"
   ]
  },
  {
   "cell_type": "code",
   "execution_count": 65,
   "metadata": {},
   "outputs": [],
   "source": [
    "#drop the row not 224,224,3\n",
    "drop_list = []\n",
    "for i in range(0,len(df)):\n",
    "    if(df.RGB[i].shape != (64,64,3)):\n",
    "        drop_list.append(i)\n",
    "df = df.drop(drop_list)"
   ]
  },
  {
   "cell_type": "code",
   "execution_count": 66,
   "metadata": {},
   "outputs": [
    {
     "data": {
      "text/html": [
       "<div>\n",
       "<style scoped>\n",
       "    .dataframe tbody tr th:only-of-type {\n",
       "        vertical-align: middle;\n",
       "    }\n",
       "\n",
       "    .dataframe tbody tr th {\n",
       "        vertical-align: top;\n",
       "    }\n",
       "\n",
       "    .dataframe thead th {\n",
       "        text-align: right;\n",
       "    }\n",
       "</style>\n",
       "<table border=\"1\" class=\"dataframe\">\n",
       "  <thead>\n",
       "    <tr style=\"text-align: right;\">\n",
       "      <th></th>\n",
       "      <th>path</th>\n",
       "      <th>labels</th>\n",
       "      <th>RGB</th>\n",
       "    </tr>\n",
       "  </thead>\n",
       "  <tbody>\n",
       "    <tr>\n",
       "      <th>0</th>\n",
       "      <td>/Users/qianzhuang/Academic/Upenn/Capstone/mode...</td>\n",
       "      <td>architecure</td>\n",
       "      <td>[[[59, 124, 180], [59, 124, 180], [59, 123, 18...</td>\n",
       "    </tr>\n",
       "    <tr>\n",
       "      <th>1</th>\n",
       "      <td>/Users/qianzhuang/Academic/Upenn/Capstone/mode...</td>\n",
       "      <td>architecure</td>\n",
       "      <td>[[[6, 3, 0], [8, 5, 0], [10, 7, 2], [9, 8, 3],...</td>\n",
       "    </tr>\n",
       "    <tr>\n",
       "      <th>2</th>\n",
       "      <td>/Users/qianzhuang/Academic/Upenn/Capstone/mode...</td>\n",
       "      <td>architecure</td>\n",
       "      <td>[[[0, 0, 0], [0, 0, 0], [0, 0, 0], [0, 0, 0], ...</td>\n",
       "    </tr>\n",
       "    <tr>\n",
       "      <th>3</th>\n",
       "      <td>/Users/qianzhuang/Academic/Upenn/Capstone/mode...</td>\n",
       "      <td>architecure</td>\n",
       "      <td>[[[173, 144, 100], [117, 88, 48], [75, 45, 9],...</td>\n",
       "    </tr>\n",
       "    <tr>\n",
       "      <th>4</th>\n",
       "      <td>/Users/qianzhuang/Academic/Upenn/Capstone/mode...</td>\n",
       "      <td>architecure</td>\n",
       "      <td>[[[65, 72, 78], [61, 68, 76], [60, 67, 75], [6...</td>\n",
       "    </tr>\n",
       "  </tbody>\n",
       "</table>\n",
       "</div>"
      ],
      "text/plain": [
       "                                                path       labels  \\\n",
       "0  /Users/qianzhuang/Academic/Upenn/Capstone/mode...  architecure   \n",
       "1  /Users/qianzhuang/Academic/Upenn/Capstone/mode...  architecure   \n",
       "2  /Users/qianzhuang/Academic/Upenn/Capstone/mode...  architecure   \n",
       "3  /Users/qianzhuang/Academic/Upenn/Capstone/mode...  architecure   \n",
       "4  /Users/qianzhuang/Academic/Upenn/Capstone/mode...  architecure   \n",
       "\n",
       "                                                 RGB  \n",
       "0  [[[59, 124, 180], [59, 124, 180], [59, 123, 18...  \n",
       "1  [[[6, 3, 0], [8, 5, 0], [10, 7, 2], [9, 8, 3],...  \n",
       "2  [[[0, 0, 0], [0, 0, 0], [0, 0, 0], [0, 0, 0], ...  \n",
       "3  [[[173, 144, 100], [117, 88, 48], [75, 45, 9],...  \n",
       "4  [[[65, 72, 78], [61, 68, 76], [60, 67, 75], [6...  "
      ]
     },
     "execution_count": 66,
     "metadata": {},
     "output_type": "execute_result"
    }
   ],
   "source": [
    "df.head()"
   ]
  },
  {
   "cell_type": "code",
   "execution_count": 67,
   "metadata": {},
   "outputs": [],
   "source": [
    "df_ar = df.loc[df.labels == list_label[0]]\n",
    "df_2 = df.loc[df.labels == list_label[1]]\n",
    "df_3 = df.loc[df.labels == list_label[2]]\n",
    "df_4 = df.loc[df.labels == list_label[3]]\n",
    "\n",
    "df_ar = df_ar.sample(n=2000)\n",
    "df_2 = df_2.sample(n=2000)\n",
    "df_3 = df_3.sample(n=2000)\n",
    "df_4 = df_4.sample(n=2000)\n",
    "\n",
    "df_2000 = df_ar.append(df_2).append(df_3).append(df_4)"
   ]
  },
  {
   "cell_type": "code",
   "execution_count": 68,
   "metadata": {},
   "outputs": [
    {
     "data": {
      "text/html": [
       "<div>\n",
       "<style scoped>\n",
       "    .dataframe tbody tr th:only-of-type {\n",
       "        vertical-align: middle;\n",
       "    }\n",
       "\n",
       "    .dataframe tbody tr th {\n",
       "        vertical-align: top;\n",
       "    }\n",
       "\n",
       "    .dataframe thead th {\n",
       "        text-align: right;\n",
       "    }\n",
       "</style>\n",
       "<table border=\"1\" class=\"dataframe\">\n",
       "  <thead>\n",
       "    <tr style=\"text-align: right;\">\n",
       "      <th></th>\n",
       "      <th>path</th>\n",
       "      <th>labels</th>\n",
       "      <th>RGB</th>\n",
       "    </tr>\n",
       "  </thead>\n",
       "  <tbody>\n",
       "    <tr>\n",
       "      <th>1310</th>\n",
       "      <td>/Users/qianzhuang/Academic/Upenn/Capstone/mode...</td>\n",
       "      <td>architecure</td>\n",
       "      <td>[[[117, 109, 96], [97, 89, 76], [28, 19, 4], [...</td>\n",
       "    </tr>\n",
       "    <tr>\n",
       "      <th>3954</th>\n",
       "      <td>/Users/qianzhuang/Academic/Upenn/Capstone/mode...</td>\n",
       "      <td>architecure</td>\n",
       "      <td>[[[165, 121, 84], [131, 83, 47], [177, 123, 89...</td>\n",
       "    </tr>\n",
       "    <tr>\n",
       "      <th>419</th>\n",
       "      <td>/Users/qianzhuang/Academic/Upenn/Capstone/mode...</td>\n",
       "      <td>architecure</td>\n",
       "      <td>[[[139, 137, 142], [181, 179, 184], [114, 112,...</td>\n",
       "    </tr>\n",
       "    <tr>\n",
       "      <th>7642</th>\n",
       "      <td>/Users/qianzhuang/Academic/Upenn/Capstone/mode...</td>\n",
       "      <td>architecure</td>\n",
       "      <td>[[[198, 190, 171], [180, 172, 153], [190, 182,...</td>\n",
       "    </tr>\n",
       "    <tr>\n",
       "      <th>8489</th>\n",
       "      <td>/Users/qianzhuang/Academic/Upenn/Capstone/mode...</td>\n",
       "      <td>architecure</td>\n",
       "      <td>[[[250, 249, 254], [242, 241, 246], [253, 254,...</td>\n",
       "    </tr>\n",
       "  </tbody>\n",
       "</table>\n",
       "</div>"
      ],
      "text/plain": [
       "                                                   path       labels  \\\n",
       "1310  /Users/qianzhuang/Academic/Upenn/Capstone/mode...  architecure   \n",
       "3954  /Users/qianzhuang/Academic/Upenn/Capstone/mode...  architecure   \n",
       "419   /Users/qianzhuang/Academic/Upenn/Capstone/mode...  architecure   \n",
       "7642  /Users/qianzhuang/Academic/Upenn/Capstone/mode...  architecure   \n",
       "8489  /Users/qianzhuang/Academic/Upenn/Capstone/mode...  architecure   \n",
       "\n",
       "                                                    RGB  \n",
       "1310  [[[117, 109, 96], [97, 89, 76], [28, 19, 4], [...  \n",
       "3954  [[[165, 121, 84], [131, 83, 47], [177, 123, 89...  \n",
       "419   [[[139, 137, 142], [181, 179, 184], [114, 112,...  \n",
       "7642  [[[198, 190, 171], [180, 172, 153], [190, 182,...  \n",
       "8489  [[[250, 249, 254], [242, 241, 246], [253, 254,...  "
      ]
     },
     "execution_count": 68,
     "metadata": {},
     "output_type": "execute_result"
    }
   ],
   "source": [
    "df_2000.head()"
   ]
  },
  {
   "cell_type": "code",
   "execution_count": 69,
   "metadata": {},
   "outputs": [
    {
     "data": {
      "text/plain": [
       "8000"
      ]
     },
     "execution_count": 69,
     "metadata": {},
     "output_type": "execute_result"
    }
   ],
   "source": [
    "len(df_2000)"
   ]
  },
  {
   "cell_type": "code",
   "execution_count": 18,
   "metadata": {},
   "outputs": [],
   "source": [
    "df['RGB_one_dim'] = df.RGB.apply(changeDim)"
   ]
  },
  {
   "cell_type": "code",
   "execution_count": 17,
   "metadata": {},
   "outputs": [],
   "source": [
    "def changeDim(array):\n",
    "    return array.ravel()"
   ]
  },
  {
   "cell_type": "code",
   "execution_count": 70,
   "metadata": {},
   "outputs": [],
   "source": [
    "def changeNum(name):\n",
    "    return list_label.index(name)"
   ]
  },
  {
   "cell_type": "code",
   "execution_count": 71,
   "metadata": {},
   "outputs": [],
   "source": [
    "df_2000['num'] = df_2000.labels.apply(changeNum)"
   ]
  },
  {
   "cell_type": "code",
   "execution_count": 72,
   "metadata": {},
   "outputs": [
    {
     "data": {
      "text/html": [
       "<div>\n",
       "<style scoped>\n",
       "    .dataframe tbody tr th:only-of-type {\n",
       "        vertical-align: middle;\n",
       "    }\n",
       "\n",
       "    .dataframe tbody tr th {\n",
       "        vertical-align: top;\n",
       "    }\n",
       "\n",
       "    .dataframe thead th {\n",
       "        text-align: right;\n",
       "    }\n",
       "</style>\n",
       "<table border=\"1\" class=\"dataframe\">\n",
       "  <thead>\n",
       "    <tr style=\"text-align: right;\">\n",
       "      <th></th>\n",
       "      <th>path</th>\n",
       "      <th>labels</th>\n",
       "      <th>RGB</th>\n",
       "      <th>num</th>\n",
       "    </tr>\n",
       "  </thead>\n",
       "  <tbody>\n",
       "    <tr>\n",
       "      <th>1310</th>\n",
       "      <td>/Users/qianzhuang/Academic/Upenn/Capstone/mode...</td>\n",
       "      <td>architecure</td>\n",
       "      <td>[[[117, 109, 96], [97, 89, 76], [28, 19, 4], [...</td>\n",
       "      <td>0</td>\n",
       "    </tr>\n",
       "    <tr>\n",
       "      <th>3954</th>\n",
       "      <td>/Users/qianzhuang/Academic/Upenn/Capstone/mode...</td>\n",
       "      <td>architecure</td>\n",
       "      <td>[[[165, 121, 84], [131, 83, 47], [177, 123, 89...</td>\n",
       "      <td>0</td>\n",
       "    </tr>\n",
       "    <tr>\n",
       "      <th>419</th>\n",
       "      <td>/Users/qianzhuang/Academic/Upenn/Capstone/mode...</td>\n",
       "      <td>architecure</td>\n",
       "      <td>[[[139, 137, 142], [181, 179, 184], [114, 112,...</td>\n",
       "      <td>0</td>\n",
       "    </tr>\n",
       "    <tr>\n",
       "      <th>7642</th>\n",
       "      <td>/Users/qianzhuang/Academic/Upenn/Capstone/mode...</td>\n",
       "      <td>architecure</td>\n",
       "      <td>[[[198, 190, 171], [180, 172, 153], [190, 182,...</td>\n",
       "      <td>0</td>\n",
       "    </tr>\n",
       "    <tr>\n",
       "      <th>8489</th>\n",
       "      <td>/Users/qianzhuang/Academic/Upenn/Capstone/mode...</td>\n",
       "      <td>architecure</td>\n",
       "      <td>[[[250, 249, 254], [242, 241, 246], [253, 254,...</td>\n",
       "      <td>0</td>\n",
       "    </tr>\n",
       "  </tbody>\n",
       "</table>\n",
       "</div>"
      ],
      "text/plain": [
       "                                                   path       labels  \\\n",
       "1310  /Users/qianzhuang/Academic/Upenn/Capstone/mode...  architecure   \n",
       "3954  /Users/qianzhuang/Academic/Upenn/Capstone/mode...  architecure   \n",
       "419   /Users/qianzhuang/Academic/Upenn/Capstone/mode...  architecure   \n",
       "7642  /Users/qianzhuang/Academic/Upenn/Capstone/mode...  architecure   \n",
       "8489  /Users/qianzhuang/Academic/Upenn/Capstone/mode...  architecure   \n",
       "\n",
       "                                                    RGB  num  \n",
       "1310  [[[117, 109, 96], [97, 89, 76], [28, 19, 4], [...    0  \n",
       "3954  [[[165, 121, 84], [131, 83, 47], [177, 123, 89...    0  \n",
       "419   [[[139, 137, 142], [181, 179, 184], [114, 112,...    0  \n",
       "7642  [[[198, 190, 171], [180, 172, 153], [190, 182,...    0  \n",
       "8489  [[[250, 249, 254], [242, 241, 246], [253, 254,...    0  "
      ]
     },
     "execution_count": 72,
     "metadata": {},
     "output_type": "execute_result"
    }
   ],
   "source": [
    "df_2000.head()"
   ]
  },
  {
   "cell_type": "code",
   "execution_count": 83,
   "metadata": {},
   "outputs": [],
   "source": [
    "# set the batch size, class number and epochs\n",
    "batch_size = 128\n",
    "num_classes = 4\n",
    "epochs = 15"
   ]
  },
  {
   "cell_type": "code",
   "execution_count": 74,
   "metadata": {},
   "outputs": [],
   "source": [
    "# normalize the data by divide 255\n",
    "X = np.array(df_2000.RGB.to_list())/255\n",
    "y = np.array(df_2000.num.to_list())"
   ]
  },
  {
   "cell_type": "code",
   "execution_count": 75,
   "metadata": {},
   "outputs": [],
   "source": [
    "X_train, X_test, y_train, y_test = train_test_split(X, y, test_size=.4, random_state=42)\n",
    "\n"
   ]
  },
  {
   "cell_type": "code",
   "execution_count": 76,
   "metadata": {},
   "outputs": [],
   "source": [
    "y_train = keras.utils.to_categorical(y_train, num_classes)\n",
    "y_test = keras.utils.to_categorical(y_test, num_classes)"
   ]
  },
  {
   "cell_type": "code",
   "execution_count": 77,
   "metadata": {},
   "outputs": [],
   "source": [
    "from tensorflow.keras.callbacks import TensorBoard, ReduceLROnPlateau\n",
    "import ssl\n",
    "from tensorflow.keras.preprocessing.image import ImageDataGenerator\n",
    "from sklearn.metrics import confusion_matrix\n",
    "from sklearn.metrics import classification_report\n",
    "from keras.applications import resnet50\n",
    "from keras import optimizers"
   ]
  },
  {
   "cell_type": "code",
   "execution_count": 79,
   "metadata": {},
   "outputs": [],
   "source": [
    "# Set the CNN model \n",
    "# my CNN architechture is In -> [[Conv2D->relu]*2 -> MaxPool2D -> Dropout]*2 -> Flatten -> Dense -> Dropout -> Out\n",
    "input_shape = (64,64,3)\n",
    "model = Sequential()\n",
    "\n",
    "model.add(Conv2D(filters = 32, kernel_size = (5,5),padding = 'Same', \n",
    "                 activation ='relu', input_shape = input_shape))\n",
    "model.add(Conv2D(filters = 32, kernel_size = (5,5),padding = 'Same', \n",
    "                 activation ='relu'))\n",
    "model.add(MaxPool2D(pool_size=(2,2)))\n",
    "model.add(Dropout(0.25))\n",
    "\n",
    "\n",
    "model.add(Conv2D(filters = 64, kernel_size = (3,3),padding = 'Same', \n",
    "                 activation ='relu'))\n",
    "model.add(Conv2D(filters = 64, kernel_size = (3,3),padding = 'Same', \n",
    "                 activation ='relu'))\n",
    "model.add(MaxPool2D(pool_size=(2,2), strides=(2,2)))\n",
    "model.add(Dropout(0.25))\n",
    "\n",
    "\n",
    "model.add(Flatten())\n",
    "model.add(Dense(256, activation = \"relu\"))\n",
    "model.add(Dropout(0.5))\n",
    "model.add(Dense(num_classes, activation = \"softmax\"))"
   ]
  },
  {
   "cell_type": "code",
   "execution_count": 80,
   "metadata": {},
   "outputs": [
    {
     "name": "stdout",
     "output_type": "stream",
     "text": [
      "Model: \"sequential_4\"\n",
      "_________________________________________________________________\n",
      "Layer (type)                 Output Shape              Param #   \n",
      "=================================================================\n",
      "conv2d_5 (Conv2D)            (None, 64, 64, 32)        2432      \n",
      "_________________________________________________________________\n",
      "conv2d_6 (Conv2D)            (None, 64, 64, 32)        25632     \n",
      "_________________________________________________________________\n",
      "max_pooling2d_4 (MaxPooling2 (None, 32, 32, 32)        0         \n",
      "_________________________________________________________________\n",
      "dropout_4 (Dropout)          (None, 32, 32, 32)        0         \n",
      "_________________________________________________________________\n",
      "conv2d_7 (Conv2D)            (None, 32, 32, 64)        18496     \n",
      "_________________________________________________________________\n",
      "conv2d_8 (Conv2D)            (None, 32, 32, 64)        36928     \n",
      "_________________________________________________________________\n",
      "max_pooling2d_5 (MaxPooling2 (None, 16, 16, 64)        0         \n",
      "_________________________________________________________________\n",
      "dropout_5 (Dropout)          (None, 16, 16, 64)        0         \n",
      "_________________________________________________________________\n",
      "flatten_2 (Flatten)          (None, 16384)             0         \n",
      "_________________________________________________________________\n",
      "dense_2 (Dense)              (None, 256)               4194560   \n",
      "_________________________________________________________________\n",
      "dropout_6 (Dropout)          (None, 256)               0         \n",
      "_________________________________________________________________\n",
      "dense_3 (Dense)              (None, 4)                 1028      \n",
      "=================================================================\n",
      "Total params: 4,279,076\n",
      "Trainable params: 4,279,076\n",
      "Non-trainable params: 0\n",
      "_________________________________________________________________\n"
     ]
    }
   ],
   "source": [
    "model.summary()"
   ]
  },
  {
   "cell_type": "code",
   "execution_count": 81,
   "metadata": {},
   "outputs": [],
   "source": [
    "# Compile the model\n",
    "model.compile(loss='categorical_crossentropy',\n",
    "              optimizer=optimizers.RMSprop(lr=1e-4),\n",
    "              metrics=['acc'])"
   ]
  },
  {
   "cell_type": "code",
   "execution_count": 84,
   "metadata": {
    "scrolled": false
   },
   "outputs": [
    {
     "name": "stdout",
     "output_type": "stream",
     "text": [
      "Train on 4800 samples, validate on 3200 samples\n",
      "Epoch 1/15\n",
      "4800/4800 [==============================] - 67s 14ms/step - loss: 1.3145 - acc: 0.3667 - val_loss: 1.2352 - val_acc: 0.4619\n",
      "Epoch 2/15\n",
      "4800/4800 [==============================] - 67s 14ms/step - loss: 1.2068 - acc: 0.4619 - val_loss: 1.1786 - val_acc: 0.4772\n",
      "Epoch 3/15\n",
      "4800/4800 [==============================] - 67s 14ms/step - loss: 1.1562 - acc: 0.4858 - val_loss: 1.1246 - val_acc: 0.5228\n",
      "Epoch 4/15\n",
      "4800/4800 [==============================] - 67s 14ms/step - loss: 1.1114 - acc: 0.5252 - val_loss: 1.1380 - val_acc: 0.5100\n",
      "Epoch 5/15\n",
      "4800/4800 [==============================] - 79s 16ms/step - loss: 1.0858 - acc: 0.5323 - val_loss: 1.1583 - val_acc: 0.4659\n",
      "Epoch 6/15\n",
      "4800/4800 [==============================] - 72s 15ms/step - loss: 1.0547 - acc: 0.5450 - val_loss: 1.0610 - val_acc: 0.5466\n",
      "Epoch 7/15\n",
      "4800/4800 [==============================] - 70s 15ms/step - loss: 1.0356 - acc: 0.5571 - val_loss: 1.0153 - val_acc: 0.5691\n",
      "Epoch 8/15\n",
      "4800/4800 [==============================] - 70s 15ms/step - loss: 1.0076 - acc: 0.5738 - val_loss: 1.0116 - val_acc: 0.5922\n",
      "Epoch 9/15\n",
      "4800/4800 [==============================] - 70s 15ms/step - loss: 0.9836 - acc: 0.5885 - val_loss: 0.9945 - val_acc: 0.5950\n",
      "Epoch 10/15\n",
      "4800/4800 [==============================] - 84s 17ms/step - loss: 0.9748 - acc: 0.5958 - val_loss: 0.9574 - val_acc: 0.6028\n",
      "Epoch 11/15\n",
      "4800/4800 [==============================] - 77s 16ms/step - loss: 0.9587 - acc: 0.6040 - val_loss: 0.9836 - val_acc: 0.5966\n",
      "Epoch 12/15\n",
      "4800/4800 [==============================] - 72s 15ms/step - loss: 0.9392 - acc: 0.6104 - val_loss: 1.0018 - val_acc: 0.5716\n",
      "Epoch 13/15\n",
      "4800/4800 [==============================] - 71s 15ms/step - loss: 0.9304 - acc: 0.6148 - val_loss: 0.9862 - val_acc: 0.5941\n",
      "Epoch 14/15\n",
      "4800/4800 [==============================] - 71s 15ms/step - loss: 0.8991 - acc: 0.6237 - val_loss: 0.9323 - val_acc: 0.6062\n",
      "Epoch 15/15\n",
      "4800/4800 [==============================] - 70s 15ms/step - loss: 0.8975 - acc: 0.6327 - val_loss: 0.9271 - val_acc: 0.6184\n"
     ]
    },
    {
     "data": {
      "text/plain": [
       "<keras.callbacks.callbacks.History at 0x145a96240>"
      ]
     },
     "execution_count": 84,
     "metadata": {},
     "output_type": "execute_result"
    }
   ],
   "source": [
    "# fit the training data and using testing data to valiadte\n",
    "model.fit(X_train, y_train,\n",
    "              batch_size=batch_size,\n",
    "              epochs=epochs,\n",
    "              verbose=1,\n",
    "              validation_data=(X_test, y_test))"
   ]
  },
  {
   "cell_type": "code",
   "execution_count": 5,
   "metadata": {},
   "outputs": [],
   "source": [
    "import glob"
   ]
  },
  {
   "cell_type": "code",
   "execution_count": 23,
   "metadata": {},
   "outputs": [],
   "source": [
    "path = '/Users/qianzhuang/Academic/Upenn/Capstone/data/data_csv/pic' # use your path\n",
    "all_files = glob.glob(path + \"/*.csv\")\n",
    "\n",
    "li = []\n",
    "\n",
    "for filename in all_files:\n",
    "    df_pic = pd.read_csv(filename, index_col=None, header=0)\n",
    "    li.append(df_pic)\n",
    "\n",
    "frame = pd.concat(li, axis=0, ignore_index=True)"
   ]
  },
  {
   "cell_type": "code",
   "execution_count": 24,
   "metadata": {},
   "outputs": [
    {
     "data": {
      "text/html": [
       "<div>\n",
       "<style scoped>\n",
       "    .dataframe tbody tr th:only-of-type {\n",
       "        vertical-align: middle;\n",
       "    }\n",
       "\n",
       "    .dataframe tbody tr th {\n",
       "        vertical-align: top;\n",
       "    }\n",
       "\n",
       "    .dataframe thead th {\n",
       "        text-align: right;\n",
       "    }\n",
       "</style>\n",
       "<table border=\"1\" class=\"dataframe\">\n",
       "  <thead>\n",
       "    <tr style=\"text-align: right;\">\n",
       "      <th></th>\n",
       "      <th>Unnamed: 0</th>\n",
       "      <th>CityID</th>\n",
       "      <th>pic</th>\n",
       "    </tr>\n",
       "  </thead>\n",
       "  <tbody>\n",
       "    <tr>\n",
       "      <th>0</th>\n",
       "      <td>0</td>\n",
       "      <td>g60745</td>\n",
       "      <td>url(\"https://dynamic-media-cdn.tripadvisor.com...</td>\n",
       "    </tr>\n",
       "    <tr>\n",
       "      <th>1</th>\n",
       "      <td>1</td>\n",
       "      <td>g60745</td>\n",
       "      <td>url(\"https://dynamic-media-cdn.tripadvisor.com...</td>\n",
       "    </tr>\n",
       "    <tr>\n",
       "      <th>2</th>\n",
       "      <td>2</td>\n",
       "      <td>g60745</td>\n",
       "      <td>url(\"https://dynamic-media-cdn.tripadvisor.com...</td>\n",
       "    </tr>\n",
       "    <tr>\n",
       "      <th>3</th>\n",
       "      <td>3</td>\n",
       "      <td>g60745</td>\n",
       "      <td>url(\"https://dynamic-media-cdn.tripadvisor.com...</td>\n",
       "    </tr>\n",
       "    <tr>\n",
       "      <th>4</th>\n",
       "      <td>4</td>\n",
       "      <td>g60745</td>\n",
       "      <td>url(\"https://dynamic-media-cdn.tripadvisor.com...</td>\n",
       "    </tr>\n",
       "  </tbody>\n",
       "</table>\n",
       "</div>"
      ],
      "text/plain": [
       "   Unnamed: 0  CityID                                                pic\n",
       "0           0  g60745  url(\"https://dynamic-media-cdn.tripadvisor.com...\n",
       "1           1  g60745  url(\"https://dynamic-media-cdn.tripadvisor.com...\n",
       "2           2  g60745  url(\"https://dynamic-media-cdn.tripadvisor.com...\n",
       "3           3  g60745  url(\"https://dynamic-media-cdn.tripadvisor.com...\n",
       "4           4  g60745  url(\"https://dynamic-media-cdn.tripadvisor.com..."
      ]
     },
     "execution_count": 24,
     "metadata": {},
     "output_type": "execute_result"
    }
   ],
   "source": [
    "frame.head()"
   ]
  },
  {
   "cell_type": "code",
   "execution_count": 25,
   "metadata": {},
   "outputs": [
    {
     "data": {
      "text/plain": [
       "10098"
      ]
     },
     "execution_count": 25,
     "metadata": {},
     "output_type": "execute_result"
    }
   ],
   "source": [
    "len(frame)"
   ]
  },
  {
   "cell_type": "code",
   "execution_count": 28,
   "metadata": {},
   "outputs": [],
   "source": [
    "pic_address_list = []"
   ]
  },
  {
   "cell_type": "code",
   "execution_count": 29,
   "metadata": {},
   "outputs": [],
   "source": [
    "def pic2url(pic):\n",
    "    return pic.split('\"')[1]"
   ]
  },
  {
   "cell_type": "code",
   "execution_count": 30,
   "metadata": {},
   "outputs": [],
   "source": [
    "frame['url'] = frame.pic.apply(pic2url) "
   ]
  },
  {
   "cell_type": "code",
   "execution_count": 31,
   "metadata": {},
   "outputs": [
    {
     "data": {
      "text/html": [
       "<div>\n",
       "<style scoped>\n",
       "    .dataframe tbody tr th:only-of-type {\n",
       "        vertical-align: middle;\n",
       "    }\n",
       "\n",
       "    .dataframe tbody tr th {\n",
       "        vertical-align: top;\n",
       "    }\n",
       "\n",
       "    .dataframe thead th {\n",
       "        text-align: right;\n",
       "    }\n",
       "</style>\n",
       "<table border=\"1\" class=\"dataframe\">\n",
       "  <thead>\n",
       "    <tr style=\"text-align: right;\">\n",
       "      <th></th>\n",
       "      <th>Unnamed: 0</th>\n",
       "      <th>CityID</th>\n",
       "      <th>pic</th>\n",
       "      <th>url</th>\n",
       "    </tr>\n",
       "  </thead>\n",
       "  <tbody>\n",
       "    <tr>\n",
       "      <th>0</th>\n",
       "      <td>0</td>\n",
       "      <td>g60745</td>\n",
       "      <td>url(\"https://dynamic-media-cdn.tripadvisor.com...</td>\n",
       "      <td>https://dynamic-media-cdn.tripadvisor.com/medi...</td>\n",
       "    </tr>\n",
       "    <tr>\n",
       "      <th>1</th>\n",
       "      <td>1</td>\n",
       "      <td>g60745</td>\n",
       "      <td>url(\"https://dynamic-media-cdn.tripadvisor.com...</td>\n",
       "      <td>https://dynamic-media-cdn.tripadvisor.com/medi...</td>\n",
       "    </tr>\n",
       "    <tr>\n",
       "      <th>2</th>\n",
       "      <td>2</td>\n",
       "      <td>g60745</td>\n",
       "      <td>url(\"https://dynamic-media-cdn.tripadvisor.com...</td>\n",
       "      <td>https://dynamic-media-cdn.tripadvisor.com/medi...</td>\n",
       "    </tr>\n",
       "    <tr>\n",
       "      <th>3</th>\n",
       "      <td>3</td>\n",
       "      <td>g60745</td>\n",
       "      <td>url(\"https://dynamic-media-cdn.tripadvisor.com...</td>\n",
       "      <td>https://dynamic-media-cdn.tripadvisor.com/medi...</td>\n",
       "    </tr>\n",
       "    <tr>\n",
       "      <th>4</th>\n",
       "      <td>4</td>\n",
       "      <td>g60745</td>\n",
       "      <td>url(\"https://dynamic-media-cdn.tripadvisor.com...</td>\n",
       "      <td>https://dynamic-media-cdn.tripadvisor.com/medi...</td>\n",
       "    </tr>\n",
       "  </tbody>\n",
       "</table>\n",
       "</div>"
      ],
      "text/plain": [
       "   Unnamed: 0  CityID                                                pic  \\\n",
       "0           0  g60745  url(\"https://dynamic-media-cdn.tripadvisor.com...   \n",
       "1           1  g60745  url(\"https://dynamic-media-cdn.tripadvisor.com...   \n",
       "2           2  g60745  url(\"https://dynamic-media-cdn.tripadvisor.com...   \n",
       "3           3  g60745  url(\"https://dynamic-media-cdn.tripadvisor.com...   \n",
       "4           4  g60745  url(\"https://dynamic-media-cdn.tripadvisor.com...   \n",
       "\n",
       "                                                 url  \n",
       "0  https://dynamic-media-cdn.tripadvisor.com/medi...  \n",
       "1  https://dynamic-media-cdn.tripadvisor.com/medi...  \n",
       "2  https://dynamic-media-cdn.tripadvisor.com/medi...  \n",
       "3  https://dynamic-media-cdn.tripadvisor.com/medi...  \n",
       "4  https://dynamic-media-cdn.tripadvisor.com/medi...  "
      ]
     },
     "execution_count": 31,
     "metadata": {},
     "output_type": "execute_result"
    }
   ],
   "source": [
    "frame.head()"
   ]
  },
  {
   "cell_type": "code",
   "execution_count": 86,
   "metadata": {},
   "outputs": [],
   "source": [
    "save_path = \"/Users/qianzhuang/Academic/Upenn/Capstone/model/Script_pic/\""
   ]
  },
  {
   "cell_type": "code",
   "execution_count": 37,
   "metadata": {},
   "outputs": [],
   "source": [
    "for i in range(0,len(frame)):\n",
    "    url = frame.url[i]\n",
    "    try:\n",
    "        response = requests.get(url)\n",
    "    except:\n",
    "        continue\n",
    "    img = Image.open(BytesIO(response.content))\n",
    "    out = img.resize((64, 64))\n",
    "    resize_path = save_path+frame.CityID[i]\n",
    "    if not os.path.exists(resize_path):\n",
    "        os.makedirs(resize_path)\n",
    "    try:\n",
    "        out.save(resize_path+\"/\"+str(i)+\".jpg\")\n",
    "    except:\n",
    "        os.remove(resize_path+\"/\"+str(i)+\".jpg\")"
   ]
  },
  {
   "cell_type": "code",
   "execution_count": 87,
   "metadata": {},
   "outputs": [],
   "source": [
    "files_citys = []\n",
    "for r, d, f in os.walk(save_path):\n",
    "    for file in f:\n",
    "        if '.jpg' in file:\n",
    "            files_citys.append(os.path.join(r, file))"
   ]
  },
  {
   "cell_type": "code",
   "execution_count": 88,
   "metadata": {},
   "outputs": [],
   "source": [
    "df_city = pd.DataFrame(files_citys)\n",
    "df_city = df_city.rename({0:\"path\"},axis = 1)"
   ]
  },
  {
   "cell_type": "code",
   "execution_count": 90,
   "metadata": {},
   "outputs": [
    {
     "data": {
      "text/html": [
       "<div>\n",
       "<style scoped>\n",
       "    .dataframe tbody tr th:only-of-type {\n",
       "        vertical-align: middle;\n",
       "    }\n",
       "\n",
       "    .dataframe tbody tr th {\n",
       "        vertical-align: top;\n",
       "    }\n",
       "\n",
       "    .dataframe thead th {\n",
       "        text-align: right;\n",
       "    }\n",
       "</style>\n",
       "<table border=\"1\" class=\"dataframe\">\n",
       "  <thead>\n",
       "    <tr style=\"text-align: right;\">\n",
       "      <th></th>\n",
       "      <th>path</th>\n",
       "    </tr>\n",
       "  </thead>\n",
       "  <tbody>\n",
       "    <tr>\n",
       "      <th>0</th>\n",
       "      <td>/Users/qianzhuang/Academic/Upenn/Capstone/mode...</td>\n",
       "    </tr>\n",
       "    <tr>\n",
       "      <th>1</th>\n",
       "      <td>/Users/qianzhuang/Academic/Upenn/Capstone/mode...</td>\n",
       "    </tr>\n",
       "    <tr>\n",
       "      <th>2</th>\n",
       "      <td>/Users/qianzhuang/Academic/Upenn/Capstone/mode...</td>\n",
       "    </tr>\n",
       "    <tr>\n",
       "      <th>3</th>\n",
       "      <td>/Users/qianzhuang/Academic/Upenn/Capstone/mode...</td>\n",
       "    </tr>\n",
       "    <tr>\n",
       "      <th>4</th>\n",
       "      <td>/Users/qianzhuang/Academic/Upenn/Capstone/mode...</td>\n",
       "    </tr>\n",
       "  </tbody>\n",
       "</table>\n",
       "</div>"
      ],
      "text/plain": [
       "                                                path\n",
       "0  /Users/qianzhuang/Academic/Upenn/Capstone/mode...\n",
       "1  /Users/qianzhuang/Academic/Upenn/Capstone/mode...\n",
       "2  /Users/qianzhuang/Academic/Upenn/Capstone/mode...\n",
       "3  /Users/qianzhuang/Academic/Upenn/Capstone/mode...\n",
       "4  /Users/qianzhuang/Academic/Upenn/Capstone/mode..."
      ]
     },
     "execution_count": 90,
     "metadata": {},
     "output_type": "execute_result"
    }
   ],
   "source": [
    "df_city.head()"
   ]
  },
  {
   "cell_type": "code",
   "execution_count": 91,
   "metadata": {},
   "outputs": [],
   "source": [
    "def getCityID(path):\n",
    "    return path.split(\"/\")[-2];"
   ]
  },
  {
   "cell_type": "code",
   "execution_count": 92,
   "metadata": {},
   "outputs": [],
   "source": [
    "df_city['CityID'] = df_city.path.apply(getCityID)"
   ]
  },
  {
   "cell_type": "code",
   "execution_count": 93,
   "metadata": {},
   "outputs": [
    {
     "data": {
      "text/html": [
       "<div>\n",
       "<style scoped>\n",
       "    .dataframe tbody tr th:only-of-type {\n",
       "        vertical-align: middle;\n",
       "    }\n",
       "\n",
       "    .dataframe tbody tr th {\n",
       "        vertical-align: top;\n",
       "    }\n",
       "\n",
       "    .dataframe thead th {\n",
       "        text-align: right;\n",
       "    }\n",
       "</style>\n",
       "<table border=\"1\" class=\"dataframe\">\n",
       "  <thead>\n",
       "    <tr style=\"text-align: right;\">\n",
       "      <th></th>\n",
       "      <th>path</th>\n",
       "      <th>CityID</th>\n",
       "    </tr>\n",
       "  </thead>\n",
       "  <tbody>\n",
       "    <tr>\n",
       "      <th>0</th>\n",
       "      <td>/Users/qianzhuang/Academic/Upenn/Capstone/mode...</td>\n",
       "      <td>g42391</td>\n",
       "    </tr>\n",
       "    <tr>\n",
       "      <th>1</th>\n",
       "      <td>/Users/qianzhuang/Academic/Upenn/Capstone/mode...</td>\n",
       "      <td>g42391</td>\n",
       "    </tr>\n",
       "    <tr>\n",
       "      <th>2</th>\n",
       "      <td>/Users/qianzhuang/Academic/Upenn/Capstone/mode...</td>\n",
       "      <td>g42391</td>\n",
       "    </tr>\n",
       "    <tr>\n",
       "      <th>3</th>\n",
       "      <td>/Users/qianzhuang/Academic/Upenn/Capstone/mode...</td>\n",
       "      <td>g42391</td>\n",
       "    </tr>\n",
       "    <tr>\n",
       "      <th>4</th>\n",
       "      <td>/Users/qianzhuang/Academic/Upenn/Capstone/mode...</td>\n",
       "      <td>g42391</td>\n",
       "    </tr>\n",
       "  </tbody>\n",
       "</table>\n",
       "</div>"
      ],
      "text/plain": [
       "                                                path  CityID\n",
       "0  /Users/qianzhuang/Academic/Upenn/Capstone/mode...  g42391\n",
       "1  /Users/qianzhuang/Academic/Upenn/Capstone/mode...  g42391\n",
       "2  /Users/qianzhuang/Academic/Upenn/Capstone/mode...  g42391\n",
       "3  /Users/qianzhuang/Academic/Upenn/Capstone/mode...  g42391\n",
       "4  /Users/qianzhuang/Academic/Upenn/Capstone/mode...  g42391"
      ]
     },
     "execution_count": 93,
     "metadata": {},
     "output_type": "execute_result"
    }
   ],
   "source": [
    "df_city.head()"
   ]
  },
  {
   "cell_type": "code",
   "execution_count": 94,
   "metadata": {},
   "outputs": [],
   "source": [
    "df_city['RGB'] = df_city.path.apply(creatRGB)"
   ]
  },
  {
   "cell_type": "code",
   "execution_count": 95,
   "metadata": {},
   "outputs": [
    {
     "data": {
      "text/html": [
       "<div>\n",
       "<style scoped>\n",
       "    .dataframe tbody tr th:only-of-type {\n",
       "        vertical-align: middle;\n",
       "    }\n",
       "\n",
       "    .dataframe tbody tr th {\n",
       "        vertical-align: top;\n",
       "    }\n",
       "\n",
       "    .dataframe thead th {\n",
       "        text-align: right;\n",
       "    }\n",
       "</style>\n",
       "<table border=\"1\" class=\"dataframe\">\n",
       "  <thead>\n",
       "    <tr style=\"text-align: right;\">\n",
       "      <th></th>\n",
       "      <th>path</th>\n",
       "      <th>CityID</th>\n",
       "      <th>RGB</th>\n",
       "    </tr>\n",
       "  </thead>\n",
       "  <tbody>\n",
       "    <tr>\n",
       "      <th>0</th>\n",
       "      <td>/Users/qianzhuang/Academic/Upenn/Capstone/mode...</td>\n",
       "      <td>g42391</td>\n",
       "      <td>[[[89, 139, 190], [92, 143, 196], [97, 148, 20...</td>\n",
       "    </tr>\n",
       "    <tr>\n",
       "      <th>1</th>\n",
       "      <td>/Users/qianzhuang/Academic/Upenn/Capstone/mode...</td>\n",
       "      <td>g42391</td>\n",
       "      <td>[[[32, 22, 21], [10, 0, 0], [20, 12, 10], [31,...</td>\n",
       "    </tr>\n",
       "    <tr>\n",
       "      <th>2</th>\n",
       "      <td>/Users/qianzhuang/Academic/Upenn/Capstone/mode...</td>\n",
       "      <td>g42391</td>\n",
       "      <td>[[[45, 7, 20], [38, 0, 9], [55, 12, 21], [61, ...</td>\n",
       "    </tr>\n",
       "    <tr>\n",
       "      <th>3</th>\n",
       "      <td>/Users/qianzhuang/Academic/Upenn/Capstone/mode...</td>\n",
       "      <td>g42391</td>\n",
       "      <td>[[[36, 53, 109], [36, 53, 109], [37, 54, 110],...</td>\n",
       "    </tr>\n",
       "    <tr>\n",
       "      <th>4</th>\n",
       "      <td>/Users/qianzhuang/Academic/Upenn/Capstone/mode...</td>\n",
       "      <td>g42391</td>\n",
       "      <td>[[[107, 90, 72], [104, 88, 72], [99, 86, 70], ...</td>\n",
       "    </tr>\n",
       "  </tbody>\n",
       "</table>\n",
       "</div>"
      ],
      "text/plain": [
       "                                                path  CityID  \\\n",
       "0  /Users/qianzhuang/Academic/Upenn/Capstone/mode...  g42391   \n",
       "1  /Users/qianzhuang/Academic/Upenn/Capstone/mode...  g42391   \n",
       "2  /Users/qianzhuang/Academic/Upenn/Capstone/mode...  g42391   \n",
       "3  /Users/qianzhuang/Academic/Upenn/Capstone/mode...  g42391   \n",
       "4  /Users/qianzhuang/Academic/Upenn/Capstone/mode...  g42391   \n",
       "\n",
       "                                                 RGB  \n",
       "0  [[[89, 139, 190], [92, 143, 196], [97, 148, 20...  \n",
       "1  [[[32, 22, 21], [10, 0, 0], [20, 12, 10], [31,...  \n",
       "2  [[[45, 7, 20], [38, 0, 9], [55, 12, 21], [61, ...  \n",
       "3  [[[36, 53, 109], [36, 53, 109], [37, 54, 110],...  \n",
       "4  [[[107, 90, 72], [104, 88, 72], [99, 86, 70], ...  "
      ]
     },
     "execution_count": 95,
     "metadata": {},
     "output_type": "execute_result"
    }
   ],
   "source": [
    "df_city.head()"
   ]
  },
  {
   "cell_type": "code",
   "execution_count": 96,
   "metadata": {},
   "outputs": [],
   "source": [
    "X_city= np.array(df_city.RGB.to_list())/255\n"
   ]
  },
  {
   "cell_type": "code",
   "execution_count": 97,
   "metadata": {},
   "outputs": [],
   "source": [
    "result_label = model.predict_classes(X_city)"
   ]
  },
  {
   "cell_type": "code",
   "execution_count": 98,
   "metadata": {},
   "outputs": [],
   "source": [
    "df_city['Predict'] = result_label"
   ]
  },
  {
   "cell_type": "code",
   "execution_count": 99,
   "metadata": {},
   "outputs": [
    {
     "data": {
      "text/html": [
       "<div>\n",
       "<style scoped>\n",
       "    .dataframe tbody tr th:only-of-type {\n",
       "        vertical-align: middle;\n",
       "    }\n",
       "\n",
       "    .dataframe tbody tr th {\n",
       "        vertical-align: top;\n",
       "    }\n",
       "\n",
       "    .dataframe thead th {\n",
       "        text-align: right;\n",
       "    }\n",
       "</style>\n",
       "<table border=\"1\" class=\"dataframe\">\n",
       "  <thead>\n",
       "    <tr style=\"text-align: right;\">\n",
       "      <th></th>\n",
       "      <th>path</th>\n",
       "      <th>CityID</th>\n",
       "      <th>RGB</th>\n",
       "      <th>Predict</th>\n",
       "    </tr>\n",
       "  </thead>\n",
       "  <tbody>\n",
       "    <tr>\n",
       "      <th>0</th>\n",
       "      <td>/Users/qianzhuang/Academic/Upenn/Capstone/mode...</td>\n",
       "      <td>g42391</td>\n",
       "      <td>[[[89, 139, 190], [92, 143, 196], [97, 148, 20...</td>\n",
       "      <td>3</td>\n",
       "    </tr>\n",
       "    <tr>\n",
       "      <th>1</th>\n",
       "      <td>/Users/qianzhuang/Academic/Upenn/Capstone/mode...</td>\n",
       "      <td>g42391</td>\n",
       "      <td>[[[32, 22, 21], [10, 0, 0], [20, 12, 10], [31,...</td>\n",
       "      <td>2</td>\n",
       "    </tr>\n",
       "    <tr>\n",
       "      <th>2</th>\n",
       "      <td>/Users/qianzhuang/Academic/Upenn/Capstone/mode...</td>\n",
       "      <td>g42391</td>\n",
       "      <td>[[[45, 7, 20], [38, 0, 9], [55, 12, 21], [61, ...</td>\n",
       "      <td>2</td>\n",
       "    </tr>\n",
       "    <tr>\n",
       "      <th>3</th>\n",
       "      <td>/Users/qianzhuang/Academic/Upenn/Capstone/mode...</td>\n",
       "      <td>g42391</td>\n",
       "      <td>[[[36, 53, 109], [36, 53, 109], [37, 54, 110],...</td>\n",
       "      <td>3</td>\n",
       "    </tr>\n",
       "    <tr>\n",
       "      <th>4</th>\n",
       "      <td>/Users/qianzhuang/Academic/Upenn/Capstone/mode...</td>\n",
       "      <td>g42391</td>\n",
       "      <td>[[[107, 90, 72], [104, 88, 72], [99, 86, 70], ...</td>\n",
       "      <td>3</td>\n",
       "    </tr>\n",
       "  </tbody>\n",
       "</table>\n",
       "</div>"
      ],
      "text/plain": [
       "                                                path  CityID  \\\n",
       "0  /Users/qianzhuang/Academic/Upenn/Capstone/mode...  g42391   \n",
       "1  /Users/qianzhuang/Academic/Upenn/Capstone/mode...  g42391   \n",
       "2  /Users/qianzhuang/Academic/Upenn/Capstone/mode...  g42391   \n",
       "3  /Users/qianzhuang/Academic/Upenn/Capstone/mode...  g42391   \n",
       "4  /Users/qianzhuang/Academic/Upenn/Capstone/mode...  g42391   \n",
       "\n",
       "                                                 RGB  Predict  \n",
       "0  [[[89, 139, 190], [92, 143, 196], [97, 148, 20...        3  \n",
       "1  [[[32, 22, 21], [10, 0, 0], [20, 12, 10], [31,...        2  \n",
       "2  [[[45, 7, 20], [38, 0, 9], [55, 12, 21], [61, ...        2  \n",
       "3  [[[36, 53, 109], [36, 53, 109], [37, 54, 110],...        3  \n",
       "4  [[[107, 90, 72], [104, 88, 72], [99, 86, 70], ...        3  "
      ]
     },
     "execution_count": 99,
     "metadata": {},
     "output_type": "execute_result"
    }
   ],
   "source": [
    "df_city.head()"
   ]
  },
  {
   "cell_type": "code",
   "execution_count": 104,
   "metadata": {},
   "outputs": [],
   "source": [
    "list_label = ['architecure', 'art&culture', 'food&drinks', 'travel&adventure']"
   ]
  },
  {
   "cell_type": "code",
   "execution_count": 101,
   "metadata": {},
   "outputs": [],
   "source": [
    "def getLabel(num):\n",
    "    return list_label[num]"
   ]
  },
  {
   "cell_type": "code",
   "execution_count": 105,
   "metadata": {},
   "outputs": [],
   "source": [
    "df_city['label'] = df_city.Predict.apply(getLabel)"
   ]
  },
  {
   "cell_type": "code",
   "execution_count": 106,
   "metadata": {},
   "outputs": [
    {
     "data": {
      "text/html": [
       "<div>\n",
       "<style scoped>\n",
       "    .dataframe tbody tr th:only-of-type {\n",
       "        vertical-align: middle;\n",
       "    }\n",
       "\n",
       "    .dataframe tbody tr th {\n",
       "        vertical-align: top;\n",
       "    }\n",
       "\n",
       "    .dataframe thead th {\n",
       "        text-align: right;\n",
       "    }\n",
       "</style>\n",
       "<table border=\"1\" class=\"dataframe\">\n",
       "  <thead>\n",
       "    <tr style=\"text-align: right;\">\n",
       "      <th></th>\n",
       "      <th>path</th>\n",
       "      <th>CityID</th>\n",
       "      <th>RGB</th>\n",
       "      <th>Predict</th>\n",
       "      <th>label</th>\n",
       "    </tr>\n",
       "  </thead>\n",
       "  <tbody>\n",
       "    <tr>\n",
       "      <th>0</th>\n",
       "      <td>/Users/qianzhuang/Academic/Upenn/Capstone/mode...</td>\n",
       "      <td>g42391</td>\n",
       "      <td>[[[89, 139, 190], [92, 143, 196], [97, 148, 20...</td>\n",
       "      <td>3</td>\n",
       "      <td>travel&amp;adventure</td>\n",
       "    </tr>\n",
       "    <tr>\n",
       "      <th>1</th>\n",
       "      <td>/Users/qianzhuang/Academic/Upenn/Capstone/mode...</td>\n",
       "      <td>g42391</td>\n",
       "      <td>[[[32, 22, 21], [10, 0, 0], [20, 12, 10], [31,...</td>\n",
       "      <td>2</td>\n",
       "      <td>food&amp;drinks</td>\n",
       "    </tr>\n",
       "    <tr>\n",
       "      <th>2</th>\n",
       "      <td>/Users/qianzhuang/Academic/Upenn/Capstone/mode...</td>\n",
       "      <td>g42391</td>\n",
       "      <td>[[[45, 7, 20], [38, 0, 9], [55, 12, 21], [61, ...</td>\n",
       "      <td>2</td>\n",
       "      <td>food&amp;drinks</td>\n",
       "    </tr>\n",
       "    <tr>\n",
       "      <th>3</th>\n",
       "      <td>/Users/qianzhuang/Academic/Upenn/Capstone/mode...</td>\n",
       "      <td>g42391</td>\n",
       "      <td>[[[36, 53, 109], [36, 53, 109], [37, 54, 110],...</td>\n",
       "      <td>3</td>\n",
       "      <td>travel&amp;adventure</td>\n",
       "    </tr>\n",
       "    <tr>\n",
       "      <th>4</th>\n",
       "      <td>/Users/qianzhuang/Academic/Upenn/Capstone/mode...</td>\n",
       "      <td>g42391</td>\n",
       "      <td>[[[107, 90, 72], [104, 88, 72], [99, 86, 70], ...</td>\n",
       "      <td>3</td>\n",
       "      <td>travel&amp;adventure</td>\n",
       "    </tr>\n",
       "  </tbody>\n",
       "</table>\n",
       "</div>"
      ],
      "text/plain": [
       "                                                path  CityID  \\\n",
       "0  /Users/qianzhuang/Academic/Upenn/Capstone/mode...  g42391   \n",
       "1  /Users/qianzhuang/Academic/Upenn/Capstone/mode...  g42391   \n",
       "2  /Users/qianzhuang/Academic/Upenn/Capstone/mode...  g42391   \n",
       "3  /Users/qianzhuang/Academic/Upenn/Capstone/mode...  g42391   \n",
       "4  /Users/qianzhuang/Academic/Upenn/Capstone/mode...  g42391   \n",
       "\n",
       "                                                 RGB  Predict  \\\n",
       "0  [[[89, 139, 190], [92, 143, 196], [97, 148, 20...        3   \n",
       "1  [[[32, 22, 21], [10, 0, 0], [20, 12, 10], [31,...        2   \n",
       "2  [[[45, 7, 20], [38, 0, 9], [55, 12, 21], [61, ...        2   \n",
       "3  [[[36, 53, 109], [36, 53, 109], [37, 54, 110],...        3   \n",
       "4  [[[107, 90, 72], [104, 88, 72], [99, 86, 70], ...        3   \n",
       "\n",
       "              label  \n",
       "0  travel&adventure  \n",
       "1       food&drinks  \n",
       "2       food&drinks  \n",
       "3  travel&adventure  \n",
       "4  travel&adventure  "
      ]
     },
     "execution_count": 106,
     "metadata": {},
     "output_type": "execute_result"
    }
   ],
   "source": [
    "df_city.head()"
   ]
  },
  {
   "cell_type": "code",
   "execution_count": 109,
   "metadata": {},
   "outputs": [],
   "source": [
    "list_cityID = df_city.CityID.unique()"
   ]
  },
  {
   "cell_type": "code",
   "execution_count": 114,
   "metadata": {},
   "outputs": [
    {
     "data": {
      "text/plain": [
       "array(['g42391', 'g28970', 'g45926', 'g60898', 'g54184', 'g46874',\n",
       "       'g49463', 'g60745', 'g44926', 'g54171', 'g32999', 'g49049',\n",
       "       'g54760', 'g57324', 'g37835', 'g60958', 'g33804', 'g49709',\n",
       "       'g30196', 'g58653', 'g51947', 'g60893', 'g29494', 'g60805',\n",
       "       'g147415', 'g60747', 'g44526', 'g34009', 'g60982', 'g43501',\n",
       "       'g60922', 'g29786', 'g37209', 'g34675', 'g60954', 'g55229',\n",
       "       'g50226', 'g51560', 'g33388', 'g52787', 'g29212', 'g39426',\n",
       "       'g40024'], dtype=object)"
      ]
     },
     "execution_count": 114,
     "metadata": {},
     "output_type": "execute_result"
    }
   ],
   "source": [
    "list_cityID"
   ]
  },
  {
   "cell_type": "code",
   "execution_count": 120,
   "metadata": {},
   "outputs": [],
   "source": [
    "cityUrl = ['https://www.tripadvisor.com/Tourism-g32999-Sacramento_California-Vacations.html',\n",
    " 'https://www.tripadvisor.com/Tourism-g33388-Denver_Colorado-Vacations.html',\n",
    " 'https://www.tripadvisor.com/Tourism-g33804-Hartford_Connecticut-Vacations.html',\n",
    " 'https://www.tripadvisor.com/Tourism-g34009-Dover_Delaware-Vacations.html',\n",
    " 'https://www.tripadvisor.com/Tourism-g28970-Washington_DC_District_of_Columbia-Vacations.html',\n",
    " 'https://www.tripadvisor.com/Tourism-g34675-Tallahassee_Florida-Vacations.html',\n",
    " 'https://www.tripadvisor.com/Tourism-g60898-Atlanta_Georgia-Vacations.html',\n",
    " 'https://www.tripadvisor.com/Tourism-g60982-Honolulu_Oahu_Hawaii-Vacations.html',\n",
    " 'https://www.tripadvisor.com/Tourism-g44926-Springfield_Missouri-Vacations.html',\n",
    " 'https://www.tripadvisor.com/Tourism-g37209-Indianapolis_Indiana-Vacations.html',\n",
    " 'https://www.tripadvisor.com/Tourism-g37835-Des_Moines_Iowa-Vacations.html',\n",
    " 'https://www.tripadvisor.com/Tourism-g60747-Topeka_Kansas-Vacations.html',\n",
    " 'https://www.tripadvisor.com/Tourism-g39426-Frankfort_Kentucky-Vacations.html',\n",
    " 'https://www.tripadvisor.com/Tourism-g40024-Baton_Rouge_Louisiana-Vacations.html',\n",
    " 'https://www.tripadvisor.com/Tourism-g29212-Augusta_Georgia-Vacations.html',\n",
    " 'https://www.tripadvisor.com/Tourism-g29494-Annapolis_Maryland-Vacations.html',\n",
    " 'https://www.tripadvisor.com/Tourism-g60745-Boston_Massachusetts-Vacations.html',\n",
    " 'https://www.tripadvisor.com/Tourism-g42391-Lansing_Ingham_County_Michigan-Vacations.html',\n",
    " 'https://www.tripadvisor.com/Tourism-g43501-Saint_Paul_Minnesota-Vacations.html',\n",
    " 'https://www.tripadvisor.com/Tourism-g60805-Jacksonville_Florida-Vacations.html',\n",
    " 'https://www.tripadvisor.com/Tourism-g44526-Jefferson_City_Missouri-Vacations.html',\n",
    " 'https://www.tripadvisor.com/Tourism-g51947-Lincoln_City_Oregon-Vacations.html',\n",
    " 'https://www.tripadvisor.com/Tourism-g45926-Carson_City_Nevada-Vacations.html',\n",
    " 'https://www.tripadvisor.com/Tourism-g49049-Concord_North_Carolina-Vacations.html',\n",
    " 'https://www.tripadvisor.com/Tourism-g46874-Trenton_New_Jersey-Vacations.html',\n",
    " 'https://www.tripadvisor.com/Tourism-g60958-Santa_Fe_New_Mexico-Vacations.html',\n",
    " 'https://www.tripadvisor.com/Tourism-g29786-Albany_New_York-Vacations.html',\n",
    " 'https://www.tripadvisor.com/Tourism-g49463-Raleigh_North_Carolina-Vacations.html',\n",
    " 'https://www.tripadvisor.com/Tourism-g49709-Bismarck_North_Dakota-Vacations.html',\n",
    " 'https://www.tripadvisor.com/Tourism-g50226-Columbus_Ohio-Vacations.html',\n",
    " 'https://www.tripadvisor.com/Tourism-g51560-Oklahoma_City_Oklahoma-Vacations.html',\n",
    " 'https://www.tripadvisor.com/Tourism-g60954-Salem_Massachusetts-Vacations.html',\n",
    " 'https://www.tripadvisor.com/Tourism-g52787-Harrisburg_Pennsylvania-Vacations.html',\n",
    " 'https://www.tripadvisor.com/Tourism-g147415-New_Providence_Island_Bahamas-Vacations.html',\n",
    " 'https://www.tripadvisor.com/Tourism-g54184-Columbia_South_Carolina-Vacations.html',\n",
    " 'https://www.tripadvisor.com/Tourism-g54760-Pierre_South_Dakota-Vacations.html',\n",
    " 'https://www.tripadvisor.com/Tourism-g55229-Nashville_Davidson_County_Tennessee-Vacations.html',\n",
    " 'https://www.tripadvisor.com/Tourism-g30196-Austin_Texas-Vacations.html',\n",
    " 'https://www.tripadvisor.com/Tourism-g60922-Salt_Lake_City_Utah-Vacations.html',\n",
    " 'https://www.tripadvisor.com/Tourism-g57324-Montpelier_Vermont-Vacations.html',\n",
    " 'https://www.tripadvisor.com/Tourism-g60893-Richmond_Virginia-Vacations.html',\n",
    " 'https://www.tripadvisor.com/Tourism-g58653-Olympia_Washington-Vacations.html',\n",
    " 'https://www.tripadvisor.com/Tourism-g54171-Charleston_South_Carolina-Vacations.html']"
   ]
  },
  {
   "cell_type": "code",
   "execution_count": 116,
   "metadata": {},
   "outputs": [],
   "source": [
    "List_cityUrlID = []\n",
    "List_cityUrlName = []"
   ]
  },
  {
   "cell_type": "code",
   "execution_count": 117,
   "metadata": {},
   "outputs": [],
   "source": [
    "for i in range(0,len(cityUrl)):\n",
    "    List_cityUrlID.append(cityUrl[i].split('-')[1])\n",
    "    List_cityUrlName.append(cityUrl[i].split('-')[-2])"
   ]
  },
  {
   "cell_type": "code",
   "execution_count": 118,
   "metadata": {},
   "outputs": [
    {
     "data": {
      "text/plain": [
       "['g32999',\n",
       " 'g33388',\n",
       " 'g33804',\n",
       " 'g34009',\n",
       " 'g28970',\n",
       " 'g34675',\n",
       " 'g60898',\n",
       " 'g60982',\n",
       " 'g44926',\n",
       " 'g37209',\n",
       " 'g37835',\n",
       " 'g60747',\n",
       " 'g39426',\n",
       " 'g40024',\n",
       " 'g29212',\n",
       " 'g29494',\n",
       " 'g60745',\n",
       " 'g42391',\n",
       " 'g43501',\n",
       " 'g60805',\n",
       " 'g44526',\n",
       " 'g51947',\n",
       " 'g45926',\n",
       " 'g49049',\n",
       " 'g46874',\n",
       " 'g60958',\n",
       " 'g29786',\n",
       " 'g49463',\n",
       " 'g49709',\n",
       " 'g50226',\n",
       " 'g51560',\n",
       " 'g60954',\n",
       " 'g52787',\n",
       " 'g147415',\n",
       " 'g54184',\n",
       " 'g54760',\n",
       " 'g55229',\n",
       " 'g30196',\n",
       " 'g60922',\n",
       " 'g57324',\n",
       " 'g60893',\n",
       " 'g58653',\n",
       " 'g54171']"
      ]
     },
     "execution_count": 118,
     "metadata": {},
     "output_type": "execute_result"
    }
   ],
   "source": [
    "List_cityUrlID"
   ]
  },
  {
   "cell_type": "code",
   "execution_count": 119,
   "metadata": {},
   "outputs": [
    {
     "data": {
      "text/plain": [
       "['Sacramento_California',\n",
       " 'Denver_Colorado',\n",
       " 'Hartford_Connecticut',\n",
       " 'Dover_Delaware',\n",
       " 'Washington_DC_District_of_Columbia',\n",
       " 'Tallahassee_Florida',\n",
       " 'Atlanta_Georgia',\n",
       " 'Honolulu_Oahu_Hawaii',\n",
       " 'Springfield_Missouri',\n",
       " 'Indianapolis_Indiana',\n",
       " 'Des_Moines_Iowa',\n",
       " 'Topeka_Kansas',\n",
       " 'Frankfort_Kentucky',\n",
       " 'Baton_Rouge_Louisiana',\n",
       " 'Augusta_Georgia',\n",
       " 'Annapolis_Maryland',\n",
       " 'Boston_Massachusetts',\n",
       " 'Lansing_Ingham_County_Michigan',\n",
       " 'Saint_Paul_Minnesota',\n",
       " 'Jacksonville_Florida',\n",
       " 'Jefferson_City_Missouri',\n",
       " 'Lincoln_City_Oregon',\n",
       " 'Carson_City_Nevada',\n",
       " 'Concord_North_Carolina',\n",
       " 'Trenton_New_Jersey',\n",
       " 'Santa_Fe_New_Mexico',\n",
       " 'Albany_New_York',\n",
       " 'Raleigh_North_Carolina',\n",
       " 'Bismarck_North_Dakota',\n",
       " 'Columbus_Ohio',\n",
       " 'Oklahoma_City_Oklahoma',\n",
       " 'Salem_Massachusetts',\n",
       " 'Harrisburg_Pennsylvania',\n",
       " 'New_Providence_Island_Bahamas',\n",
       " 'Columbia_South_Carolina',\n",
       " 'Pierre_South_Dakota',\n",
       " 'Nashville_Davidson_County_Tennessee',\n",
       " 'Austin_Texas',\n",
       " 'Salt_Lake_City_Utah',\n",
       " 'Montpelier_Vermont',\n",
       " 'Richmond_Virginia',\n",
       " 'Olympia_Washington',\n",
       " 'Charleston_South_Carolina']"
      ]
     },
     "execution_count": 119,
     "metadata": {},
     "output_type": "execute_result"
    }
   ],
   "source": [
    "List_cityUrlName"
   ]
  },
  {
   "cell_type": "code",
   "execution_count": 121,
   "metadata": {},
   "outputs": [
    {
     "data": {
      "text/plain": [
       "43"
      ]
     },
     "execution_count": 121,
     "metadata": {},
     "output_type": "execute_result"
    }
   ],
   "source": [
    "len(list_cityID)"
   ]
  },
  {
   "cell_type": "code",
   "execution_count": 122,
   "metadata": {},
   "outputs": [
    {
     "data": {
      "text/plain": [
       "43"
      ]
     },
     "execution_count": 122,
     "metadata": {},
     "output_type": "execute_result"
    }
   ],
   "source": [
    "len(List_cityUrlID)"
   ]
  },
  {
   "cell_type": "code",
   "execution_count": null,
   "metadata": {},
   "outputs": [],
   "source": [
    "df_city = df_city.drop(['RGB'], axis=1)"
   ]
  },
  {
   "cell_type": "code",
   "execution_count": 124,
   "metadata": {},
   "outputs": [],
   "source": [
    "def getCityName(num):\n",
    "    return List_cityUrlName[List_cityUrlID.index(num)]"
   ]
  },
  {
   "cell_type": "code",
   "execution_count": 132,
   "metadata": {},
   "outputs": [],
   "source": [
    "df_city['Full_name'] = df_city.CityID.apply(getCityName)"
   ]
  },
  {
   "cell_type": "code",
   "execution_count": 133,
   "metadata": {},
   "outputs": [
    {
     "data": {
      "text/html": [
       "<div>\n",
       "<style scoped>\n",
       "    .dataframe tbody tr th:only-of-type {\n",
       "        vertical-align: middle;\n",
       "    }\n",
       "\n",
       "    .dataframe tbody tr th {\n",
       "        vertical-align: top;\n",
       "    }\n",
       "\n",
       "    .dataframe thead th {\n",
       "        text-align: right;\n",
       "    }\n",
       "</style>\n",
       "<table border=\"1\" class=\"dataframe\">\n",
       "  <thead>\n",
       "    <tr style=\"text-align: right;\">\n",
       "      <th></th>\n",
       "      <th>path</th>\n",
       "      <th>CityID</th>\n",
       "      <th>Predict</th>\n",
       "      <th>label</th>\n",
       "      <th>Full_name</th>\n",
       "    </tr>\n",
       "  </thead>\n",
       "  <tbody>\n",
       "    <tr>\n",
       "      <th>0</th>\n",
       "      <td>/Users/qianzhuang/Academic/Upenn/Capstone/mode...</td>\n",
       "      <td>g42391</td>\n",
       "      <td>3</td>\n",
       "      <td>travel&amp;adventure</td>\n",
       "      <td>Lansing_Ingham_County_Michigan</td>\n",
       "    </tr>\n",
       "    <tr>\n",
       "      <th>1</th>\n",
       "      <td>/Users/qianzhuang/Academic/Upenn/Capstone/mode...</td>\n",
       "      <td>g42391</td>\n",
       "      <td>2</td>\n",
       "      <td>food&amp;drinks</td>\n",
       "      <td>Lansing_Ingham_County_Michigan</td>\n",
       "    </tr>\n",
       "    <tr>\n",
       "      <th>2</th>\n",
       "      <td>/Users/qianzhuang/Academic/Upenn/Capstone/mode...</td>\n",
       "      <td>g42391</td>\n",
       "      <td>2</td>\n",
       "      <td>food&amp;drinks</td>\n",
       "      <td>Lansing_Ingham_County_Michigan</td>\n",
       "    </tr>\n",
       "    <tr>\n",
       "      <th>3</th>\n",
       "      <td>/Users/qianzhuang/Academic/Upenn/Capstone/mode...</td>\n",
       "      <td>g42391</td>\n",
       "      <td>3</td>\n",
       "      <td>travel&amp;adventure</td>\n",
       "      <td>Lansing_Ingham_County_Michigan</td>\n",
       "    </tr>\n",
       "    <tr>\n",
       "      <th>4</th>\n",
       "      <td>/Users/qianzhuang/Academic/Upenn/Capstone/mode...</td>\n",
       "      <td>g42391</td>\n",
       "      <td>3</td>\n",
       "      <td>travel&amp;adventure</td>\n",
       "      <td>Lansing_Ingham_County_Michigan</td>\n",
       "    </tr>\n",
       "  </tbody>\n",
       "</table>\n",
       "</div>"
      ],
      "text/plain": [
       "                                                path  CityID  Predict  \\\n",
       "0  /Users/qianzhuang/Academic/Upenn/Capstone/mode...  g42391        3   \n",
       "1  /Users/qianzhuang/Academic/Upenn/Capstone/mode...  g42391        2   \n",
       "2  /Users/qianzhuang/Academic/Upenn/Capstone/mode...  g42391        2   \n",
       "3  /Users/qianzhuang/Academic/Upenn/Capstone/mode...  g42391        3   \n",
       "4  /Users/qianzhuang/Academic/Upenn/Capstone/mode...  g42391        3   \n",
       "\n",
       "              label                       Full_name  \n",
       "0  travel&adventure  Lansing_Ingham_County_Michigan  \n",
       "1       food&drinks  Lansing_Ingham_County_Michigan  \n",
       "2       food&drinks  Lansing_Ingham_County_Michigan  \n",
       "3  travel&adventure  Lansing_Ingham_County_Michigan  \n",
       "4  travel&adventure  Lansing_Ingham_County_Michigan  "
      ]
     },
     "execution_count": 133,
     "metadata": {},
     "output_type": "execute_result"
    }
   ],
   "source": [
    "df_city.head()"
   ]
  },
  {
   "cell_type": "code",
   "execution_count": 134,
   "metadata": {},
   "outputs": [],
   "source": [
    "def getState(string):\n",
    "    return string.split('_')[-1]\n",
    "def getCity(string):\n",
    "    return string.split('_')[0]"
   ]
  },
  {
   "cell_type": "code",
   "execution_count": 136,
   "metadata": {},
   "outputs": [],
   "source": [
    "df_city['City'] = df_city.Full_name.apply(getCity)\n",
    "df_city['State'] = df_city.Full_name.apply(getState)"
   ]
  },
  {
   "cell_type": "code",
   "execution_count": 137,
   "metadata": {},
   "outputs": [
    {
     "data": {
      "text/html": [
       "<div>\n",
       "<style scoped>\n",
       "    .dataframe tbody tr th:only-of-type {\n",
       "        vertical-align: middle;\n",
       "    }\n",
       "\n",
       "    .dataframe tbody tr th {\n",
       "        vertical-align: top;\n",
       "    }\n",
       "\n",
       "    .dataframe thead th {\n",
       "        text-align: right;\n",
       "    }\n",
       "</style>\n",
       "<table border=\"1\" class=\"dataframe\">\n",
       "  <thead>\n",
       "    <tr style=\"text-align: right;\">\n",
       "      <th></th>\n",
       "      <th>path</th>\n",
       "      <th>CityID</th>\n",
       "      <th>Predict</th>\n",
       "      <th>label</th>\n",
       "      <th>Full_name</th>\n",
       "      <th>City</th>\n",
       "      <th>State</th>\n",
       "    </tr>\n",
       "  </thead>\n",
       "  <tbody>\n",
       "    <tr>\n",
       "      <th>0</th>\n",
       "      <td>/Users/qianzhuang/Academic/Upenn/Capstone/mode...</td>\n",
       "      <td>g42391</td>\n",
       "      <td>3</td>\n",
       "      <td>travel&amp;adventure</td>\n",
       "      <td>Lansing_Ingham_County_Michigan</td>\n",
       "      <td>Lansing</td>\n",
       "      <td>Michigan</td>\n",
       "    </tr>\n",
       "    <tr>\n",
       "      <th>1</th>\n",
       "      <td>/Users/qianzhuang/Academic/Upenn/Capstone/mode...</td>\n",
       "      <td>g42391</td>\n",
       "      <td>2</td>\n",
       "      <td>food&amp;drinks</td>\n",
       "      <td>Lansing_Ingham_County_Michigan</td>\n",
       "      <td>Lansing</td>\n",
       "      <td>Michigan</td>\n",
       "    </tr>\n",
       "    <tr>\n",
       "      <th>2</th>\n",
       "      <td>/Users/qianzhuang/Academic/Upenn/Capstone/mode...</td>\n",
       "      <td>g42391</td>\n",
       "      <td>2</td>\n",
       "      <td>food&amp;drinks</td>\n",
       "      <td>Lansing_Ingham_County_Michigan</td>\n",
       "      <td>Lansing</td>\n",
       "      <td>Michigan</td>\n",
       "    </tr>\n",
       "    <tr>\n",
       "      <th>3</th>\n",
       "      <td>/Users/qianzhuang/Academic/Upenn/Capstone/mode...</td>\n",
       "      <td>g42391</td>\n",
       "      <td>3</td>\n",
       "      <td>travel&amp;adventure</td>\n",
       "      <td>Lansing_Ingham_County_Michigan</td>\n",
       "      <td>Lansing</td>\n",
       "      <td>Michigan</td>\n",
       "    </tr>\n",
       "    <tr>\n",
       "      <th>4</th>\n",
       "      <td>/Users/qianzhuang/Academic/Upenn/Capstone/mode...</td>\n",
       "      <td>g42391</td>\n",
       "      <td>3</td>\n",
       "      <td>travel&amp;adventure</td>\n",
       "      <td>Lansing_Ingham_County_Michigan</td>\n",
       "      <td>Lansing</td>\n",
       "      <td>Michigan</td>\n",
       "    </tr>\n",
       "  </tbody>\n",
       "</table>\n",
       "</div>"
      ],
      "text/plain": [
       "                                                path  CityID  Predict  \\\n",
       "0  /Users/qianzhuang/Academic/Upenn/Capstone/mode...  g42391        3   \n",
       "1  /Users/qianzhuang/Academic/Upenn/Capstone/mode...  g42391        2   \n",
       "2  /Users/qianzhuang/Academic/Upenn/Capstone/mode...  g42391        2   \n",
       "3  /Users/qianzhuang/Academic/Upenn/Capstone/mode...  g42391        3   \n",
       "4  /Users/qianzhuang/Academic/Upenn/Capstone/mode...  g42391        3   \n",
       "\n",
       "              label                       Full_name     City     State  \n",
       "0  travel&adventure  Lansing_Ingham_County_Michigan  Lansing  Michigan  \n",
       "1       food&drinks  Lansing_Ingham_County_Michigan  Lansing  Michigan  \n",
       "2       food&drinks  Lansing_Ingham_County_Michigan  Lansing  Michigan  \n",
       "3  travel&adventure  Lansing_Ingham_County_Michigan  Lansing  Michigan  \n",
       "4  travel&adventure  Lansing_Ingham_County_Michigan  Lansing  Michigan  "
      ]
     },
     "execution_count": 137,
     "metadata": {},
     "output_type": "execute_result"
    }
   ],
   "source": [
    "df_city.head()"
   ]
  },
  {
   "cell_type": "code",
   "execution_count": 138,
   "metadata": {},
   "outputs": [],
   "source": [
    "df_city.to_csv('./df_city.csv')"
   ]
  },
  {
   "cell_type": "code",
   "execution_count": null,
   "metadata": {},
   "outputs": [],
   "source": []
  }
 ],
 "metadata": {
  "kernelspec": {
   "display_name": "Python 3",
   "language": "python",
   "name": "python3"
  },
  "language_info": {
   "codemirror_mode": {
    "name": "ipython",
    "version": 3
   },
   "file_extension": ".py",
   "mimetype": "text/x-python",
   "name": "python",
   "nbconvert_exporter": "python",
   "pygments_lexer": "ipython3",
   "version": "3.6.9"
  }
 },
 "nbformat": 4,
 "nbformat_minor": 2
}
